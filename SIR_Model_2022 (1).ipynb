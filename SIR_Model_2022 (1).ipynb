{
  "cells": [
    {
      "cell_type": "markdown",
      "id": "7987fdaf-7f7c-4470-8eda-76286e953964",
      "metadata": {
        "id": "7987fdaf-7f7c-4470-8eda-76286e953964"
      },
      "source": [
        "# Pandemic! Control a Pandemic Disease before it Runs Rampant\n",
        "_[Mini-workshop@SC22] November 13, 2022_ <br>\n",
        "Reference Site: https://hackhpc.github.io/StudentHackatSC22/\n",
        "\n",
        "A SIR model is an epidemiological model that computes the theoretical number of people infected with a contagious illness in a closed population over time. The name of this class of models derives from the fact that they involve coupled equations relating the number of susceptible people S(t), number of people infected I(t), and number of people who have recovered R(t).<br> \n",
        "\n",
        "<img src=\"images/SIR-model.png\" style=\"border: solid 2px black;\"></img>\n",
        "\n",
        "In this model, we've introduced 2 object classes, the Person Object, and the Population Object - essentially a collection of People. <br>\n",
        "\n",
        "We will use a simple model where a person can be:\n",
        "- susceptible: they are healthy, but can be infected;\n",
        "- sick: when they are sick, they can infect other people;\n",
        "- recovered: they have been sick, but no longer carry the disease, and can not be infected for a\n",
        "second time;\n",
        "- vaccinated: they are healthy, do not carry the disease, and can not be infected\n",
        "\n",
        "There will be a patient zero.<br><br>\n",
        "Some assumptions:\n",
        "- When a Person interacts with a Person with the status of \"sick\", that Person then has a 10% chance of becoming sick themselves.\n",
        "- Each Person interacts with the same constant number of people\n",
        "- A Person stays sick for 5 days\n",
        "- Once a Persons recovers, they become innoculated\n"
      ]
    },
    {
      "cell_type": "markdown",
      "id": "839c5092-d68e-48a8-94af-022ba960d32c",
      "metadata": {
        "id": "839c5092-d68e-48a8-94af-022ba960d32c"
      },
      "source": [
        "### Person object parameters:\n",
        "\n",
        "#### &#128100; Joe:\n",
        "##### has a state: Suceptable, Infected, Recovered\n",
        "##### has number of days sick &#129319;\n",
        "##### chance of being sick\n"
      ]
    },
    {
      "cell_type": "code",
      "execution_count": null,
      "id": "5eea30be-ad7f-4da0-a86d-665dc2a9146a",
      "metadata": {
        "id": "5eea30be-ad7f-4da0-a86d-665dc2a9146a"
      },
      "outputs": [],
      "source": [
        "import numpy as np\n",
        "import random\n",
        "\n",
        "my_array = np.array"
      ]
    },
    {
      "cell_type": "code",
      "execution_count": null,
      "id": "def204db-e0d2-4a44-ab04-21aa02b9aec3",
      "metadata": {
        "id": "def204db-e0d2-4a44-ab04-21aa02b9aec3"
      },
      "outputs": [],
      "source": [
        "class Person(object):\n",
        "    def __init__(self):\n",
        "        self.status = \"Susceptible\"\n",
        "        self.days_sick = 0\n",
        "        self.sickness_rate = 10\n",
        "        self.Interaction = []\n",
        "        self.modernaV = False\n",
        "    \n",
        "    \n",
        "    def modernaVaccine(self, gotVaccine):\n",
        "        if(gotVaccine):\n",
        "            self.set_sickness_rate(self.sickness_rate * .91)\n",
        "            self.modernaV = True\n",
        "\n",
        "    def set_sickness_rate(self, new_rate):\n",
        "        self.sickness_rate = new_rate\n",
        "    \n",
        "    def infect(self, number_of_days_sick):\n",
        "        self.status = \"Infected\"\n",
        "        self.days_sick = number_of_days_sick\n",
        "    \n",
        "    def recover(self):\n",
        "        self.status = \"Recovered\"\n",
        "        self.days_sick = 0\n",
        "    \n",
        "    def update(self):\n",
        "        if (self.status == \"Susceptible\"):\n",
        "            self.roll_for_infection()\n",
        "            \n",
        "        elif (self.status == \"Infected\"):            \n",
        "            self.days_sick = self.days_sick - 1\n",
        "            if (self.days_sick <= 0):\n",
        "                self.recover()\n",
        "    \n",
        "    def update_days_sick(self):\n",
        "        if (self.status == \"Infected\"):            \n",
        "            self.days_sick = self.days_sick - 1\n",
        "            if (self.days_sick <= 0):\n",
        "                self.recover()\n",
        "            \n",
        "\n",
        "            \n",
        "    def roll_for_infection(self):\n",
        "        is_sick = (random.randint(0,101) < self.sickness_rate)\n",
        "        if (is_sick):\n",
        "            self.infect(4)\n",
        "            \n",
        "        "
      ]
    },
    {
      "cell_type": "markdown",
      "id": "74e87541-e941-4791-a2e9-4c1d513ce595",
      "metadata": {
        "id": "74e87541-e941-4791-a2e9-4c1d513ce595"
      },
      "source": [
        "Let's implement our object,  </br>\n",
        "start w/ instantiating Joe as a Person and Jane as a Person"
      ]
    },
    {
      "cell_type": "code",
      "execution_count": null,
      "id": "9bb17182-04c4-450d-87c8-84deba516ddf",
      "metadata": {
        "colab": {
          "base_uri": "https://localhost:8080/"
        },
        "id": "9bb17182-04c4-450d-87c8-84deba516ddf",
        "outputId": "5702459b-efea-4d7c-e82e-45a75039ea96"
      },
      "outputs": [
        {
          "output_type": "stream",
          "name": "stdout",
          "text": [
            "Joe is Susceptible day:1\n",
            "Jane is Susceptible day:1\n",
            "Joe is Susceptible day:2\n",
            "Jane is Susceptible day:2\n",
            "Joe is Infected day:3\n",
            "Jane is Susceptible day:3\n",
            "Joe is Infected day:4\n",
            "Jane is Susceptible day:4\n",
            "Joe is Infected day:5\n",
            "Jane is Infected day:5\n",
            "Joe is Infected day:6\n",
            "Jane is Infected day:6\n",
            "Joe is Recovered day:7\n",
            "Jane is Infected day:7\n",
            "Joe is Recovered day:8\n",
            "Jane is Infected day:8\n",
            "Joe is Recovered day:9\n",
            "Jane is Recovered day:9\n"
          ]
        }
      ],
      "source": [
        "Joe = Person()\n",
        "Jane = Person()\n",
        "Jane.set_sickness_rate(10) #jane has a different sickness rate, joe has the default\n",
        "\n",
        "day = 0\n",
        "\n",
        "while (Joe.status != \"Recovered\" or Jane.status != \"Recovered\"):\n",
        "    day = day + 1        \n",
        "    Joe.update()\n",
        "    if (Joe.status == \"Infected\" or Jane.status == \"Infected\"):\n",
        "        Jane.update()\n",
        "        \n",
        "        \n",
        "    print(\"Joe is \" + Joe.status + \" day:\" + str(day))\n",
        "    print(\"Jane is \" + Jane.status + \" day:\" + str(day))\n",
        "    \n",
        "    #My conditions didn't happen, let's rerun\n",
        "    #if Joe is recovered and Jane is still susceptable, the condtions for our program weren't met\n",
        "    #run it again!\n",
        "    if (Joe.status == \"Recovered\" and Jane.status == \"Susceptible\"):\n",
        "        Joe.status = \"Susceptible\"\n",
        "        day = 0\n",
        "        print()\n",
        "        print (\"------- reset -------\")\n"
      ]
    },
    {
      "cell_type": "markdown",
      "id": "87359155-ad4f-4530-b3e0-f39f92c98b8a",
      "metadata": {
        "id": "87359155-ad4f-4530-b3e0-f39f92c98b8a"
      },
      "source": [
        "#### &#128101; Now, we're going to create a population of 100 Persons\n"
      ]
    },
    {
      "cell_type": "code",
      "execution_count": null,
      "id": "62245fa8-fc12-445e-bcac-1f74f2ce77ae",
      "metadata": {
        "id": "62245fa8-fc12-445e-bcac-1f74f2ce77ae"
      },
      "outputs": [],
      "source": [
        "my_population = []\n",
        "n = 101\n",
        "for i in range(0,n):\n",
        "    generic_dude = Person()\n",
        "    my_population.append(generic_dude) # we now have a population of 100 people\n",
        "    "
      ]
    },
    {
      "cell_type": "code",
      "execution_count": null,
      "id": "304aed05-e388-4606-b946-55dd5e993663",
      "metadata": {
        "colab": {
          "base_uri": "https://localhost:8080/"
        },
        "id": "304aed05-e388-4606-b946-55dd5e993663",
        "outputId": "a7aaf3d5-9822-45ed-b24e-c7de0fe356f7"
      },
      "outputs": [
        {
          "output_type": "stream",
          "name": "stdout",
          "text": [
            "<class 'list'>\n"
          ]
        }
      ],
      "source": [
        "print (type(my_population))"
      ]
    },
    {
      "cell_type": "code",
      "execution_count": null,
      "id": "89347799-ca95-483e-a75c-e5115f005ef6",
      "metadata": {
        "colab": {
          "base_uri": "https://localhost:8080/"
        },
        "id": "89347799-ca95-483e-a75c-e5115f005ef6",
        "outputId": "81889acc-99ee-4477-a1e2-9859a0c09182"
      },
      "outputs": [
        {
          "output_type": "stream",
          "name": "stdout",
          "text": [
            "101\n"
          ]
        }
      ],
      "source": [
        "print (len(my_population))"
      ]
    },
    {
      "cell_type": "code",
      "execution_count": null,
      "id": "e5de4a26-6ca5-4e98-9ef1-33d3a4a7b4f9",
      "metadata": {
        "colab": {
          "base_uri": "https://localhost:8080/"
        },
        "id": "e5de4a26-6ca5-4e98-9ef1-33d3a4a7b4f9",
        "outputId": "06972bbe-d929-4435-c7a7-d6056a6d934d"
      },
      "outputs": [
        {
          "output_type": "stream",
          "name": "stdout",
          "text": [
            "<class '__main__.Person'>\n"
          ]
        }
      ],
      "source": [
        "print (type(my_population[99]))"
      ]
    },
    {
      "cell_type": "code",
      "execution_count": null,
      "id": "f50847da-63e2-41d7-8125-2fe4755c8776",
      "metadata": {
        "colab": {
          "base_uri": "https://localhost:8080/"
        },
        "id": "f50847da-63e2-41d7-8125-2fe4755c8776",
        "outputId": "393c12ce-005c-4fab-a549-bab263d587a9"
      },
      "outputs": [
        {
          "output_type": "stream",
          "name": "stdout",
          "text": [
            "Infected\n"
          ]
        }
      ],
      "source": [
        "my_population[99].infect(10) # Let's see if our code works\n",
        "print (my_population[99].status)"
      ]
    },
    {
      "cell_type": "markdown",
      "id": "a5931a05-246c-4bbb-bc12-134dc9dcb76d",
      "metadata": {
        "id": "a5931a05-246c-4bbb-bc12-134dc9dcb76d"
      },
      "source": [
        "### Let see if we can figure out a way for Persons to interact"
      ]
    },
    {
      "cell_type": "code",
      "execution_count": null,
      "id": "ebd2ec92-24cb-45b2-8389-e7b91d5bbfce",
      "metadata": {
        "colab": {
          "base_uri": "https://localhost:8080/"
        },
        "id": "ebd2ec92-24cb-45b2-8389-e7b91d5bbfce",
        "outputId": "5b6e9160-b0c9-4e53-c99b-c0e73a03c347"
      },
      "outputs": [
        {
          "output_type": "stream",
          "name": "stdout",
          "text": [
            "Person: 0  interacted with: [40, 10, 99, 29, 5, 68, 28, 88, 62, 100]\n",
            "Person: 1  interacted with: [26, 29, 54, 99, 87, 32, 33, 31, 58, 47]\n",
            "Person: 2  interacted with: [58, 49, 37, 55, 4, 42, 7, 5, 91, 6]\n",
            "Person: 3  interacted with: [20, 26, 20, 13, 4, 78, 91, 95, 81, 98]\n",
            "Person: 4  interacted with: [20, 15, 48, 10, 66, 89, 14, 51, 23, 85]\n",
            "Person: 5  interacted with: [12, 53, 76, 67, 77, 28, 47, 10, 41, 98]\n",
            "Person: 6  interacted with: [33, 3, 24, 40, 19, 95, 30, 15, 29, 82]\n",
            "Person: 7  interacted with: [31, 39, 51, 74, 51, 18, 100, 46, 1, 9]\n",
            "Person: 8  interacted with: [19, 21, 39, 6, 56, 46, 16, 38, 10, 86]\n",
            "Person: 9  interacted with: [96, 11, 98, 13, 96, 61, 90, 46, 97, 11]\n",
            "Person: 10  interacted with: [85, 36, 37, 4, 44, 42, 3, 47, 55, 98]\n",
            "Person: 11  interacted with: [45, 11, 96, 84, 82, 30, 9, 51, 83, 62]\n",
            "Person: 12  interacted with: [58, 57, 5, 97, 62, 17, 21, 43, 72, 96]\n",
            "Person: 13  interacted with: [64, 0, 5, 37, 48, 75, 72, 89, 44, 86]\n",
            "Person: 14  interacted with: [84, 72, 32, 100, 47, 36, 9, 36, 90, 6]\n",
            "Person: 15  interacted with: [75, 57, 20, 5, 9, 12, 72, 7, 71, 62]\n",
            "Person: 16  interacted with: [84, 84, 52, 84, 6, 36, 97, 25, 81, 87]\n",
            "Person: 17  interacted with: [41, 1, 36, 67, 68, 33, 59, 46, 89, 85]\n",
            "Person: 18  interacted with: [55, 29, 77, 65, 19, 19, 65, 35, 70, 29]\n",
            "Person: 19  interacted with: [50, 42, 55, 2, 19, 66, 13, 73, 61, 6]\n",
            "Person: 20  interacted with: [27, 40, 89, 94, 32, 34, 72, 21, 66, 45]\n",
            "Person: 21  interacted with: [42, 57, 39, 79, 48, 32, 41, 15, 70, 50]\n",
            "Person: 22  interacted with: [68, 23, 69, 55, 67, 3, 85, 23, 65, 81]\n",
            "Person: 23  interacted with: [25, 48, 88, 76, 75, 54, 18, 19, 91, 9]\n",
            "Person: 24  interacted with: [69, 16, 97, 30, 4, 54, 45, 41, 40, 66]\n",
            "Person: 25  interacted with: [91, 99, 85, 62, 6, 18, 35, 59, 59, 71]\n",
            "Person: 26  interacted with: [90, 86, 78, 73, 82, 28, 63, 13, 6, 87]\n",
            "Person: 27  interacted with: [42, 0, 46, 8, 4, 94, 83, 6, 32, 88]\n",
            "Person: 28  interacted with: [52, 88, 97, 18, 70, 25, 5, 52, 91, 68]\n",
            "Person: 29  interacted with: [81, 48, 47, 61, 93, 26, 81, 24, 17, 32]\n",
            "Person: 30  interacted with: [23, 20, 37, 70, 74, 71, 95, 5, 18, 9]\n",
            "Person: 31  interacted with: [50, 83, 36, 36, 39, 11, 82, 85, 19, 10]\n",
            "Person: 32  interacted with: [91, 88, 88, 34, 50, 26, 47, 25, 27, 3]\n",
            "Person: 33  interacted with: [18, 32, 42, 7, 1, 51, 100, 7, 86, 97]\n",
            "Person: 34  interacted with: [51, 75, 73, 51, 61, 80, 38, 13, 29, 36]\n",
            "Person: 35  interacted with: [46, 98, 81, 56, 47, 44, 48, 5, 10, 55]\n",
            "Person: 36  interacted with: [66, 73, 97, 7, 93, 38, 25, 97, 8, 25]\n",
            "Person: 37  interacted with: [89, 30, 28, 56, 21, 66, 78, 17, 77, 92]\n",
            "Person: 38  interacted with: [92, 98, 87, 56, 94, 67, 32, 93, 58, 100]\n",
            "Person: 39  interacted with: [3, 60, 12, 18, 29, 22, 14, 17, 69, 4]\n",
            "Person: 40  interacted with: [54, 21, 25, 55, 52, 17, 64, 61, 74, 63]\n",
            "Person: 41  interacted with: [91, 17, 5, 17, 42, 95, 3, 52, 24, 52]\n",
            "Person: 42  interacted with: [60, 66, 86, 18, 11, 91, 54, 26, 23, 97]\n",
            "Person: 43  interacted with: [21, 66, 92, 74, 83, 37, 85, 65, 28, 83]\n",
            "Person: 44  interacted with: [58, 44, 10, 21, 8, 28, 38, 90, 73, 60]\n",
            "Person: 45  interacted with: [66, 11, 26, 99, 6, 10, 60, 0, 79, 54]\n",
            "Person: 46  interacted with: [96, 11, 41, 78, 98, 2, 59, 89, 62, 19]\n",
            "Person: 47  interacted with: [63, 26, 100, 18, 48, 9, 6, 4, 34, 60]\n",
            "Person: 48  interacted with: [46, 41, 12, 47, 90, 34, 82, 14, 70, 62]\n",
            "Person: 49  interacted with: [70, 65, 29, 74, 75, 96, 59, 80, 80, 36]\n",
            "Person: 50  interacted with: [46, 24, 24, 95, 94, 15, 86, 75, 57, 3]\n",
            "Person: 51  interacted with: [13, 73, 53, 48, 53, 45, 27, 59, 78, 2]\n",
            "Person: 52  interacted with: [74, 28, 8, 77, 86, 71, 74, 99, 9, 40]\n",
            "Person: 53  interacted with: [48, 78, 66, 79, 37, 56, 81, 17, 58, 10]\n",
            "Person: 54  interacted with: [86, 49, 16, 49, 75, 95, 37, 100, 62, 62]\n",
            "Person: 55  interacted with: [83, 82, 66, 11, 51, 81, 20, 24, 55, 69]\n",
            "Person: 56  interacted with: [96, 31, 12, 97, 7, 20, 14, 81, 76, 6]\n",
            "Person: 57  interacted with: [64, 35, 28, 66, 26, 79, 28, 22, 22, 47]\n",
            "Person: 58  interacted with: [24, 45, 12, 64, 68, 97, 84, 53, 33, 44]\n",
            "Person: 59  interacted with: [10, 2, 12, 73, 2, 46, 68, 23, 49, 58]\n",
            "Person: 60  interacted with: [33, 28, 54, 46, 22, 48, 72, 85, 79, 96]\n",
            "Person: 61  interacted with: [100, 4, 54, 24, 54, 52, 18, 70, 73, 38]\n",
            "Person: 62  interacted with: [61, 83, 74, 62, 97, 0, 7, 13, 40, 89]\n",
            "Person: 63  interacted with: [50, 91, 41, 58, 18, 90, 90, 24, 61, 35]\n",
            "Person: 64  interacted with: [20, 72, 28, 60, 14, 43, 39, 21, 3, 38]\n",
            "Person: 65  interacted with: [80, 13, 73, 9, 99, 29, 22, 22, 30, 6]\n",
            "Person: 66  interacted with: [79, 81, 85, 71, 41, 99, 71, 79, 89, 66]\n",
            "Person: 67  interacted with: [26, 64, 62, 39, 76, 100, 74, 68, 84, 4]\n",
            "Person: 68  interacted with: [89, 87, 31, 33, 74, 62, 29, 98, 33, 3]\n",
            "Person: 69  interacted with: [25, 7, 52, 84, 45, 68, 32, 99, 80, 51]\n",
            "Person: 70  interacted with: [30, 28, 6, 53, 62, 12, 5, 5, 60, 44]\n",
            "Person: 71  interacted with: [87, 62, 77, 34, 16, 30, 26, 100, 36, 30]\n",
            "Person: 72  interacted with: [57, 35, 29, 25, 77, 3, 95, 60, 41, 79]\n",
            "Person: 73  interacted with: [90, 24, 14, 57, 69, 94, 70, 59, 84, 14]\n",
            "Person: 74  interacted with: [42, 8, 38, 82, 59, 68, 36, 44, 35, 37]\n",
            "Person: 75  interacted with: [5, 87, 14, 68, 70, 31, 7, 44, 92, 28]\n",
            "Person: 76  interacted with: [21, 21, 71, 69, 85, 12, 31, 16, 13, 15]\n",
            "Person: 77  interacted with: [75, 3, 22, 60, 59, 84, 27, 21, 22, 33]\n",
            "Person: 78  interacted with: [56, 72, 55, 63, 55, 73, 7, 82, 13, 9]\n",
            "Person: 79  interacted with: [8, 35, 91, 18, 83, 89, 0, 54, 26, 43]\n",
            "Person: 80  interacted with: [57, 79, 40, 16, 22, 6, 77, 34, 40, 59]\n",
            "Person: 81  interacted with: [22, 15, 100, 42, 0, 87, 3, 60, 64, 6]\n",
            "Person: 82  interacted with: [89, 99, 33, 89, 37, 88, 55, 19, 86, 99]\n",
            "Person: 83  interacted with: [58, 69, 46, 75, 20, 84, 64, 96, 43, 16]\n",
            "Person: 84  interacted with: [26, 33, 36, 8, 50, 70, 48, 80, 61, 35]\n",
            "Person: 85  interacted with: [89, 45, 88, 28, 58, 45, 28, 99, 77, 44]\n",
            "Person: 86  interacted with: [63, 56, 98, 26, 16, 73, 4, 36, 36, 39]\n",
            "Person: 87  interacted with: [31, 76, 76, 98, 69, 72, 92, 34, 51, 96]\n",
            "Person: 88  interacted with: [90, 12, 66, 74, 99, 23, 27, 77, 17, 85]\n",
            "Person: 89  interacted with: [59, 6, 64, 9, 64, 34, 60, 22, 27, 25]\n",
            "Person: 90  interacted with: [7, 62, 56, 94, 74, 33, 87, 75, 20, 59]\n",
            "Person: 91  interacted with: [52, 13, 9, 4, 66, 51, 47, 30, 72, 100]\n",
            "Person: 92  interacted with: [92, 1, 56, 13, 78, 75, 80, 4, 93, 15]\n",
            "Person: 93  interacted with: [66, 16, 89, 99, 88, 13, 52, 50, 56, 0]\n",
            "Person: 94  interacted with: [97, 15, 2, 61, 57, 35, 57, 55, 11, 25]\n",
            "Person: 95  interacted with: [99, 57, 100, 7, 6, 28, 75, 28, 34, 40]\n",
            "Person: 96  interacted with: [61, 56, 43, 53, 81, 63, 65, 53, 12, 33]\n",
            "Person: 97  interacted with: [83, 54, 16, 22, 59, 82, 21, 66, 46, 59]\n",
            "Person: 98  interacted with: [62, 42, 21, 34, 37, 13, 98, 30, 68, 91]\n",
            "Person: 99  interacted with: [74, 13, 77, 14, 52, 56, 83, 71, 67, 6]\n",
            "Person: 100  interacted with: [64, 21, 46, 85, 80, 57, 31, 15, 18, 2]\n"
          ]
        }
      ],
      "source": [
        "interactions = []\n",
        "index = -1\n",
        "for p in my_population:\n",
        "    p_interactions = []\n",
        "    for i in range(0,10):\n",
        "        r = random.randint(0,100)\n",
        "        p_interactions.append(r)\n",
        "    interactions.append(p_interactions)\n",
        "\n",
        "for i in interactions:\n",
        "    index = index + 1\n",
        "    print (\"Person:\", index, \" interacted with:\", i)"
      ]
    },
    {
      "cell_type": "markdown",
      "id": "c8c6ea89-cabd-473e-8fda-d53cd94142a2",
      "metadata": {
        "id": "c8c6ea89-cabd-473e-8fda-d53cd94142a2"
      },
      "source": [
        "Randomly Infect 10 people\n",
        "print out the number of people who are sick at the beginning of day 1\n",
        "\n",
        "We're going to simulate Day 1\n",
        "If anyone interacts with these 10 people, they must roll a die to see if they get sick\n",
        "\n",
        "meaning, every sick person that shows up in someones interaction list, that someone rolls to see if they get sick or not.\n",
        "\n",
        "Also, *every* person who shows up in a sick persons interaction list, has to roll to see if they get sick or not.\n",
        "\n",
        "Print out the number of people sick after day 1"
      ]
    },
    {
      "cell_type": "code",
      "execution_count": null,
      "id": "8b2f1750-a781-4c9f-8931-981563f22d0d",
      "metadata": {
        "id": "8b2f1750-a781-4c9f-8931-981563f22d0d"
      },
      "outputs": [],
      "source": [
        "#first thing: infect 10 people\n",
        "\n",
        "#print out the number of people who are sick\n",
        "\n",
        "#look at their interaction lists\n",
        "\n",
        "#If anyone interacts with them, see if they get sick\n",
        "\n",
        "\n"
      ]
    },
    {
      "cell_type": "code",
      "execution_count": null,
      "id": "dba36a2f-59cf-4f30-a376-2066843ffb75",
      "metadata": {
        "colab": {
          "base_uri": "https://localhost:8080/"
        },
        "id": "dba36a2f-59cf-4f30-a376-2066843ffb75",
        "outputId": "954dc7ab-dffa-4ac0-b8e6-b22e6b1f26dd"
      },
      "outputs": [
        {
          "output_type": "stream",
          "name": "stdout",
          "text": [
            "Day 1, number of people sick:10\n",
            "[49, 77, 23, 41, 52, 35, 89, 16, 65, 53]\n",
            "End of Day 1, number of people sick: 43\n",
            "[49, 77, 23, 41, 52, 35, 89, 16, 65, 53, 6, 47, 99, 28, 33, 60, 39, 78, 40, 45, 87, 3, 13, 54, 8, 57, 95, 58, 14, 0, 61, 93, 64, 67, 72, 63, 29, 88, 90, 21, 94, 98, 19]\n"
          ]
        }
      ],
      "source": [
        "# We're selecting 10 indexes of people we're going to infect\n",
        "currently_infected = random.sample(range(100), 10)\n",
        "\n",
        "for i in currently_infected:\n",
        "    my_population[i].infect(5)\n",
        "\n",
        "\n",
        "print (\"Day 1, number of people sick:\" + str(len(currently_infected)))\n",
        "print (currently_infected)\n",
        "\n",
        "interactions = []\n",
        "person_index = -1\n",
        "for p in my_population:\n",
        "    person_index = person_index + 1\n",
        "\n",
        "    # if person_index is in the currently_sick list, everyone they interact w/ can get sick\n",
        "    \n",
        "    p_interactions = []\n",
        "    for i in range(0,10):        \n",
        "        r = random.randint(0,99)\n",
        "        p_interactions.append(r)\n",
        "\n",
        "        #If person_index is already sick, everyone they contact, might also get sick\n",
        "        \n",
        "        if (person_index in currently_infected):\n",
        "            my_population[r].update()\n",
        "            if (my_population[r].status == \"Infected\" and r not in currently_infected):\n",
        "                currently_infected.append(r)\n",
        "        #If anyone has an infected person in their interactions list, *they* might get infected\n",
        "        if (r in currently_infected):\n",
        "            my_population[person_index].update()\n",
        "            if (my_population[person_index].status == \"Infected\" and person_index not in currently_infected):\n",
        "                currently_infected.append(person_index)\n",
        "    interactions.append(p_interactions)\n",
        "        \n",
        "        \n",
        "# person_index = -1\n",
        "# for i in interactions:\n",
        "#     person_index = person_index + 1\n",
        "#     print (\"Person:\", person_index, \" interacted with:\", i)\n",
        "\n",
        "print (\"End of Day 1, number of people sick:\", len(currently_infected))\n",
        "print (currently_infected)"
      ]
    },
    {
      "cell_type": "markdown",
      "id": "f86b3a12-460e-4939-ba98-42ec406cca52",
      "metadata": {
        "id": "f86b3a12-460e-4939-ba98-42ec406cca52"
      },
      "source": [
        "## We need \"something\" to manage and hold our People"
      ]
    },
    {
      "cell_type": "code",
      "execution_count": null,
      "id": "1754a1c7-4f89-427b-9161-b891b9c10aaa",
      "metadata": {
        "id": "1754a1c7-4f89-427b-9161-b891b9c10aaa"
      },
      "outputs": [],
      "source": [
        "from numpy.ma.core import mod\n",
        "class Population:\n",
        "    def __init__(self, number=100, interaction=10, percentage_vaccinated=0):\n",
        "        self.People = []\n",
        "        self.number = number\n",
        "        self.interaction = interaction\n",
        "        self.percentage_vaccinated = percentage_vaccinated\n",
        "        \n",
        "        if (number < 100):\n",
        "            self.number = 100\n",
        "        \n",
        "        if (interaction < 10):\n",
        "            self.interaction = 10\n",
        "        \n",
        "        ##build our population\n",
        "        patient_Zero = Person()\n",
        "        patient_Zero.infect(5)\n",
        "        \n",
        "        self.People.append(patient_Zero)\n",
        "        \n",
        "        for i in range(0,number):\n",
        "            p = Person()\n",
        "            if (i < number*(self.percentage_vaccinated/100.0) and self.percentage_vaccinated>0):\n",
        "                p.modernaVaccine(True)\n",
        "                \n",
        "            self.People.append(p)\n",
        "\n",
        "               \n",
        "            \n",
        "    def number_of_sick(self):\n",
        "        sick_Count = 0\n",
        "        for j in self.People:\n",
        "            if (j.status == \"Infected\"):\n",
        "                sick_Count = sick_Count + 1\n",
        "                \n",
        "        return sick_Count\n",
        "    \n",
        "    def number_of_recovered(self):\n",
        "        recovered_Count = 0\n",
        "        for j in self.People:\n",
        "            if (j.status == \"Recovered\"):\n",
        "                recovered_Count = recovered_Count + 1\n",
        "        \n",
        "        return recovered_Count\n",
        "    \n",
        "    def number_of_susceptible(self):\n",
        "        susceptible_Count = 0\n",
        "        for j in self.People:\n",
        "            if (j.status == \"Susceptible\"):\n",
        "                susceptible_Count = susceptible_Count + 1\n",
        "                \n",
        "        return susceptible_Count\n",
        "\n",
        "    def number_modernaVaccine(self):\n",
        "      modernaCount = 0\n",
        "      for j in self.People:\n",
        "        if (j.modernaV):\n",
        "            modernaCount = modernaCount + 1\n",
        "      return modernaCount\n",
        "\n",
        "    def number_vaccine_sick(self):\n",
        "      vaccine_SickCount = 0\n",
        "      for j in self.People:\n",
        "          if(j.modernaV and j.status == \"Infected\"):\n",
        "              vaccine_SickCount = vaccine_SickCount + 1\n",
        "      return vaccine_SickCount\n",
        "    \n",
        "    ## Here's the brains of the Population class (and our code)\n",
        "    ## the update will be ran everyday (meaning, every iteration of our while loop)\n",
        "    ## build interaction tables (who interacted with whom)\n",
        "    ## if marked sick they must roll to see if (one per interaction)\n",
        "    ## if I interacted with 10 people, each of them must roll and vice versa if they\n",
        "    ## they were marked as infected\n",
        "    def update(self):\n",
        "        ## people who are might get sick\n",
        "        might_Get_Sick = []\n",
        "        \n",
        "        for person in self.People:\n",
        "            \n",
        "            #clear out your interactions per day\n",
        "            person.Interaction = []\n",
        "            \n",
        "            ##These are the n number of people that you interact with\n",
        "            for i in range(0, self.interaction):\n",
        "                r = random.randint(0,self.number)\n",
        "                person.Interaction.append(r)\n",
        "                \n",
        "            ##if \"person\" is Infected, every single person they interacted with might get sick\n",
        "            if (person.status == \"Infected\"):\n",
        "                person.update_days_sick()\n",
        "                \n",
        "                for m in person.Interaction:\n",
        "                    if (self.People[m].status == \"Susceptible\"): #only susceptible people can get sick\n",
        "                        might_Get_Sick.append(self.People[m])\n",
        "            \n",
        "            ##if \"person\" is susceptible and they interact w/ someone who is \"infected\" \n",
        "            ##person gets added to the \"might get sick\"\n",
        "            if (person.status == \"Susceptible\"):\n",
        "                for m in person.Interaction:\n",
        "                    if (self.People[m].status == \"Infected\"):\n",
        "                        might_Get_Sick.append(person)\n",
        "            \n",
        "        ##Now! We're going to roll through our \"Might Get Sick\" and they each roll a die\n",
        "        ##this is only a list of susceptible people\n",
        "        for p in might_Get_Sick:\n",
        "            p.roll_for_infection()\n",
        "        "
      ]
    },
    {
      "cell_type": "markdown",
      "id": "791a50f6-5ef7-40c8-8ec2-8003386e2a5c",
      "metadata": {
        "id": "791a50f6-5ef7-40c8-8ec2-8003386e2a5c"
      },
      "source": [
        "## Lets build a population\n",
        "Build a population of 1000 with 10 initally infected people:\n",
        "`myCommunity = Population(1000,10)`"
      ]
    },
    {
      "cell_type": "code",
      "execution_count": null,
      "id": "202dbdf6-18f6-48cb-9b1e-4b4f01c9d95d",
      "metadata": {
        "colab": {
          "base_uri": "https://localhost:8080/"
        },
        "id": "202dbdf6-18f6-48cb-9b1e-4b4f01c9d95d",
        "outputId": "4b2d3d21-07a3-468f-9c28-e8c4b6a93c4f"
      },
      "outputs": [
        {
          "output_type": "stream",
          "name": "stdout",
          "text": [
            "day: 0 Number of sick: 1\n",
            "day: 1 Number of sick: 2\n",
            "day: 2 Number of sick: 4\n",
            "day: 3 Number of sick: 14\n",
            "day: 4 Number of sick: 41\n",
            "day: 5 Number of sick: 99\n",
            "day: 6 Number of sick: 275\n",
            "day: 7 Number of sick: 676\n",
            "day: 8 Number of sick: 1289\n",
            "day: 9 Number of sick: 1691\n",
            "day: 10 Number of sick: 1681\n",
            "day: 11 Number of sick: 1304\n",
            "day: 12 Number of sick: 668\n",
            "day: 13 Number of sick: 206\n",
            "day: 14 Number of sick: 38\n",
            "day: 15 Number of sick: 4\n",
            "day: 16 Number of sick: 0\n",
            "Number recovered: 1998\n",
            "Number susceptible: 3\n"
          ]
        }
      ],
      "source": [
        "#Population( size_of_population, number_of_interactions, percentage_wearing_masks)\n",
        "myCommunity = Population(2000,5)\n",
        "day = 0\n",
        "my_plot = []\n",
        "number_sick = myCommunity.number_of_sick()\n",
        "while (number_sick > 0):\n",
        "    number_sick = myCommunity.number_of_sick()\n",
        "    number_recovered = myCommunity.number_of_recovered()\n",
        "    number_vaccinated = myCommunity.number_modernaVaccine()\n",
        "    number_vaccinated_sick = myCommunity.number_vaccine_sick()\n",
        "    \n",
        "    my_plot.append([day, number_sick, number_recovered])\n",
        "    \n",
        "    if (myCommunity.percentage_vaccinated > 0):\n",
        "        print (\"day:\", day, \"Number of sick:\", number_sick, \"Sick Mask Wearers:\", number_vaccined_sick, \"Mask Wearers:\", number_vaccinated)\n",
        "    else:\n",
        "        print (\"day:\", day, \"Number of sick:\", number_sick)\n",
        "    \n",
        "    day = day+1\n",
        "    myCommunity.update()\n",
        "\n",
        "#print (\"day:\", day, \"Number of sick:\", myCommunity.number_of_sick())\n",
        "print (\"Number recovered:\", myCommunity.number_of_recovered())\n",
        "print (\"Number susceptible:\", myCommunity.number_of_susceptible())\n",
        "\n",
        "#print (my_plot)"
      ]
    },
    {
      "cell_type": "markdown",
      "id": "54e0220b-63cf-4cd2-b594-459383d0014a",
      "metadata": {
        "id": "54e0220b-63cf-4cd2-b594-459383d0014a"
      },
      "source": [
        "# &#128202; Plot your results"
      ]
    },
    {
      "cell_type": "code",
      "execution_count": null,
      "id": "48b285d4-abd9-4044-9621-2dcb8b24e08e",
      "metadata": {
        "id": "48b285d4-abd9-4044-9621-2dcb8b24e08e"
      },
      "outputs": [],
      "source": [
        "import pandas as pd\n",
        "import matplotlib.pyplot as plt"
      ]
    },
    {
      "cell_type": "code",
      "execution_count": null,
      "id": "0378df8e-349a-4fcf-b5ac-979ccced8ae4",
      "metadata": {
        "id": "0378df8e-349a-4fcf-b5ac-979ccced8ae4"
      },
      "outputs": [],
      "source": [
        "df = pd.DataFrame(my_plot, columns=['day','number_sick', 'number_recovered'])"
      ]
    },
    {
      "cell_type": "code",
      "execution_count": null,
      "id": "1d85771a-13a5-47f8-b830-79094319b2e2",
      "metadata": {
        "colab": {
          "base_uri": "https://localhost:8080/",
          "height": 582
        },
        "id": "1d85771a-13a5-47f8-b830-79094319b2e2",
        "outputId": "f304ce6a-021d-49b8-95a8-49e8bfc05c91"
      },
      "outputs": [
        {
          "output_type": "execute_result",
          "data": {
            "text/plain": [
              "    day  number_sick  number_recovered\n",
              "0     0            1                 0\n",
              "1     1            2                 0\n",
              "2     2            4                 0\n",
              "3     3           14                 0\n",
              "4     4           41                 0\n",
              "5     5           99                 2\n",
              "6     6          275                 4\n",
              "7     7          676                14\n",
              "8     8         1289                41\n",
              "9     9         1691               101\n",
              "10   10         1681               279\n",
              "11   11         1304               690\n",
              "12   12          668              1330\n",
              "13   13          206              1792\n",
              "14   14           38              1960\n",
              "15   15            4              1994\n",
              "16   16            0              1998"
            ],
            "text/html": [
              "\n",
              "  <div id=\"df-4c8bbd68-7105-4033-b228-b9a08d52b4ac\">\n",
              "    <div class=\"colab-df-container\">\n",
              "      <div>\n",
              "<style scoped>\n",
              "    .dataframe tbody tr th:only-of-type {\n",
              "        vertical-align: middle;\n",
              "    }\n",
              "\n",
              "    .dataframe tbody tr th {\n",
              "        vertical-align: top;\n",
              "    }\n",
              "\n",
              "    .dataframe thead th {\n",
              "        text-align: right;\n",
              "    }\n",
              "</style>\n",
              "<table border=\"1\" class=\"dataframe\">\n",
              "  <thead>\n",
              "    <tr style=\"text-align: right;\">\n",
              "      <th></th>\n",
              "      <th>day</th>\n",
              "      <th>number_sick</th>\n",
              "      <th>number_recovered</th>\n",
              "    </tr>\n",
              "  </thead>\n",
              "  <tbody>\n",
              "    <tr>\n",
              "      <th>0</th>\n",
              "      <td>0</td>\n",
              "      <td>1</td>\n",
              "      <td>0</td>\n",
              "    </tr>\n",
              "    <tr>\n",
              "      <th>1</th>\n",
              "      <td>1</td>\n",
              "      <td>2</td>\n",
              "      <td>0</td>\n",
              "    </tr>\n",
              "    <tr>\n",
              "      <th>2</th>\n",
              "      <td>2</td>\n",
              "      <td>4</td>\n",
              "      <td>0</td>\n",
              "    </tr>\n",
              "    <tr>\n",
              "      <th>3</th>\n",
              "      <td>3</td>\n",
              "      <td>14</td>\n",
              "      <td>0</td>\n",
              "    </tr>\n",
              "    <tr>\n",
              "      <th>4</th>\n",
              "      <td>4</td>\n",
              "      <td>41</td>\n",
              "      <td>0</td>\n",
              "    </tr>\n",
              "    <tr>\n",
              "      <th>5</th>\n",
              "      <td>5</td>\n",
              "      <td>99</td>\n",
              "      <td>2</td>\n",
              "    </tr>\n",
              "    <tr>\n",
              "      <th>6</th>\n",
              "      <td>6</td>\n",
              "      <td>275</td>\n",
              "      <td>4</td>\n",
              "    </tr>\n",
              "    <tr>\n",
              "      <th>7</th>\n",
              "      <td>7</td>\n",
              "      <td>676</td>\n",
              "      <td>14</td>\n",
              "    </tr>\n",
              "    <tr>\n",
              "      <th>8</th>\n",
              "      <td>8</td>\n",
              "      <td>1289</td>\n",
              "      <td>41</td>\n",
              "    </tr>\n",
              "    <tr>\n",
              "      <th>9</th>\n",
              "      <td>9</td>\n",
              "      <td>1691</td>\n",
              "      <td>101</td>\n",
              "    </tr>\n",
              "    <tr>\n",
              "      <th>10</th>\n",
              "      <td>10</td>\n",
              "      <td>1681</td>\n",
              "      <td>279</td>\n",
              "    </tr>\n",
              "    <tr>\n",
              "      <th>11</th>\n",
              "      <td>11</td>\n",
              "      <td>1304</td>\n",
              "      <td>690</td>\n",
              "    </tr>\n",
              "    <tr>\n",
              "      <th>12</th>\n",
              "      <td>12</td>\n",
              "      <td>668</td>\n",
              "      <td>1330</td>\n",
              "    </tr>\n",
              "    <tr>\n",
              "      <th>13</th>\n",
              "      <td>13</td>\n",
              "      <td>206</td>\n",
              "      <td>1792</td>\n",
              "    </tr>\n",
              "    <tr>\n",
              "      <th>14</th>\n",
              "      <td>14</td>\n",
              "      <td>38</td>\n",
              "      <td>1960</td>\n",
              "    </tr>\n",
              "    <tr>\n",
              "      <th>15</th>\n",
              "      <td>15</td>\n",
              "      <td>4</td>\n",
              "      <td>1994</td>\n",
              "    </tr>\n",
              "    <tr>\n",
              "      <th>16</th>\n",
              "      <td>16</td>\n",
              "      <td>0</td>\n",
              "      <td>1998</td>\n",
              "    </tr>\n",
              "  </tbody>\n",
              "</table>\n",
              "</div>\n",
              "      <button class=\"colab-df-convert\" onclick=\"convertToInteractive('df-4c8bbd68-7105-4033-b228-b9a08d52b4ac')\"\n",
              "              title=\"Convert this dataframe to an interactive table.\"\n",
              "              style=\"display:none;\">\n",
              "        \n",
              "  <svg xmlns=\"http://www.w3.org/2000/svg\" height=\"24px\"viewBox=\"0 0 24 24\"\n",
              "       width=\"24px\">\n",
              "    <path d=\"M0 0h24v24H0V0z\" fill=\"none\"/>\n",
              "    <path d=\"M18.56 5.44l.94 2.06.94-2.06 2.06-.94-2.06-.94-.94-2.06-.94 2.06-2.06.94zm-11 1L8.5 8.5l.94-2.06 2.06-.94-2.06-.94L8.5 2.5l-.94 2.06-2.06.94zm10 10l.94 2.06.94-2.06 2.06-.94-2.06-.94-.94-2.06-.94 2.06-2.06.94z\"/><path d=\"M17.41 7.96l-1.37-1.37c-.4-.4-.92-.59-1.43-.59-.52 0-1.04.2-1.43.59L10.3 9.45l-7.72 7.72c-.78.78-.78 2.05 0 2.83L4 21.41c.39.39.9.59 1.41.59.51 0 1.02-.2 1.41-.59l7.78-7.78 2.81-2.81c.8-.78.8-2.07 0-2.86zM5.41 20L4 18.59l7.72-7.72 1.47 1.35L5.41 20z\"/>\n",
              "  </svg>\n",
              "      </button>\n",
              "      \n",
              "  <style>\n",
              "    .colab-df-container {\n",
              "      display:flex;\n",
              "      flex-wrap:wrap;\n",
              "      gap: 12px;\n",
              "    }\n",
              "\n",
              "    .colab-df-convert {\n",
              "      background-color: #E8F0FE;\n",
              "      border: none;\n",
              "      border-radius: 50%;\n",
              "      cursor: pointer;\n",
              "      display: none;\n",
              "      fill: #1967D2;\n",
              "      height: 32px;\n",
              "      padding: 0 0 0 0;\n",
              "      width: 32px;\n",
              "    }\n",
              "\n",
              "    .colab-df-convert:hover {\n",
              "      background-color: #E2EBFA;\n",
              "      box-shadow: 0px 1px 2px rgba(60, 64, 67, 0.3), 0px 1px 3px 1px rgba(60, 64, 67, 0.15);\n",
              "      fill: #174EA6;\n",
              "    }\n",
              "\n",
              "    [theme=dark] .colab-df-convert {\n",
              "      background-color: #3B4455;\n",
              "      fill: #D2E3FC;\n",
              "    }\n",
              "\n",
              "    [theme=dark] .colab-df-convert:hover {\n",
              "      background-color: #434B5C;\n",
              "      box-shadow: 0px 1px 3px 1px rgba(0, 0, 0, 0.15);\n",
              "      filter: drop-shadow(0px 1px 2px rgba(0, 0, 0, 0.3));\n",
              "      fill: #FFFFFF;\n",
              "    }\n",
              "  </style>\n",
              "\n",
              "      <script>\n",
              "        const buttonEl =\n",
              "          document.querySelector('#df-4c8bbd68-7105-4033-b228-b9a08d52b4ac button.colab-df-convert');\n",
              "        buttonEl.style.display =\n",
              "          google.colab.kernel.accessAllowed ? 'block' : 'none';\n",
              "\n",
              "        async function convertToInteractive(key) {\n",
              "          const element = document.querySelector('#df-4c8bbd68-7105-4033-b228-b9a08d52b4ac');\n",
              "          const dataTable =\n",
              "            await google.colab.kernel.invokeFunction('convertToInteractive',\n",
              "                                                     [key], {});\n",
              "          if (!dataTable) return;\n",
              "\n",
              "          const docLinkHtml = 'Like what you see? Visit the ' +\n",
              "            '<a target=\"_blank\" href=https://colab.research.google.com/notebooks/data_table.ipynb>data table notebook</a>'\n",
              "            + ' to learn more about interactive tables.';\n",
              "          element.innerHTML = '';\n",
              "          dataTable['output_type'] = 'display_data';\n",
              "          await google.colab.output.renderOutput(dataTable, element);\n",
              "          const docLink = document.createElement('div');\n",
              "          docLink.innerHTML = docLinkHtml;\n",
              "          element.appendChild(docLink);\n",
              "        }\n",
              "      </script>\n",
              "    </div>\n",
              "  </div>\n",
              "  "
            ]
          },
          "metadata": {},
          "execution_count": 50
        }
      ],
      "source": [
        "df"
      ]
    },
    {
      "cell_type": "code",
      "execution_count": null,
      "id": "67eafb8e-5193-44f9-b6f4-8c612213fc68",
      "metadata": {
        "id": "67eafb8e-5193-44f9-b6f4-8c612213fc68"
      },
      "outputs": [],
      "source": [
        "fig = plt.figure()\n",
        "ax = plt.gca()\n",
        "fig = df.plot(kind='line', x='day', y='number_sick', ax=ax).get_figure()\n",
        "plt.savefig('test.png', bbox_inches='tight')\n",
        "plt.show()"
      ]
    },
    {
      "cell_type": "code",
      "execution_count": null,
      "id": "0f39ff0a-518b-49b8-b4e8-62a770dc8ef3",
      "metadata": {
        "id": "0f39ff0a-518b-49b8-b4e8-62a770dc8ef3"
      },
      "outputs": [],
      "source": [
        "fig = plt.figure()\n",
        "ax = plt.gca()\n",
        "fig = df.plot(kind='line', x='day', y='number_recovered', ax=ax).get_figure()\n",
        "plt.savefig('test.png', bbox_inches='tight')\n",
        "plt.show()"
      ]
    },
    {
      "cell_type": "code",
      "execution_count": null,
      "id": "ee2eca21-c03b-4e99-8d65-cb3c848b2ded",
      "metadata": {
        "id": "ee2eca21-c03b-4e99-8d65-cb3c848b2ded"
      },
      "outputs": [],
      "source": [
        "fig = plt.figure()\n",
        "ax1 = plt.gca()\n",
        "fig1 = df.plot(kind='line', x='day', y='number_recovered', ax=ax1).get_figure()\n",
        "fig2 = df.plot(kind='line', x='day', y='number_sick', ax=ax1).get_figure()\n",
        "plt.savefig('test.png')\n",
        "plt.show()"
      ]
    },
    {
      "cell_type": "code",
      "execution_count": null,
      "id": "bbd9818d-2e03-40e7-b2ed-ce346978c812",
      "metadata": {
        "id": "bbd9818d-2e03-40e7-b2ed-ce346978c812"
      },
      "outputs": [],
      "source": [
        "df.to_csv(\"mydata.csv\")"
      ]
    },
    {
      "cell_type": "markdown",
      "id": "d7f7f4a2-4646-4b37-a6dc-7dcd6432fa92",
      "metadata": {
        "id": "d7f7f4a2-4646-4b37-a6dc-7dcd6432fa92"
      },
      "source": [
        "# Adding an \"Intervention\": Incorporating Mask Wearing\n",
        "\n",
        "Ref: Mask Effectiveness: https://www.cdc.gov/mmwr/volumes/71/wr/mm7106e1.htm \n",
        "\n",
        "Modify the `myCommunity = Population(40000,5,0)` decleration.\n",
        "\n",
        "_Syntax:_\n",
        "\n",
        "```Population( size_of_population, number_of_interactions, percentage_wearing_masks)```\n"
      ]
    },
    {
      "cell_type": "markdown",
      "id": "66f65919-598e-4d57-abda-8f4a62148121",
      "metadata": {
        "id": "66f65919-598e-4d57-abda-8f4a62148121"
      },
      "source": [
        "---\n",
        "<img src=\"images/Covid-SEIR-model.png\" style=\"border: solid 2px black;\"></img>\n",
        "\n",
        "<h1 style=\"color: purple;\">&#127942; SC22 Mini-Workshop Challenge</h1>\n",
        "\n",
        "Your challenge is to add interventions to the code based on the population and availability of ICU beds in Texarkana, TX so that critical care is never overwhlemed. You will need to find or designate a Critical Care Rate of no less than 25% without a vaccine.\n",
        "\n",
        "**Suggested interventions:**\n",
        "- &#128567; Masks \n",
        "- &#128137; Vaccinations  \n",
        "- &#128694; Social Distancing \n",
        "\n",
        "<h2 style=\"color:Green\"> Texarkana Specific References:</h2>\n",
        "\n",
        "Ref: Individual Hospital Statistics for Texas: https://www.ahd.com/states/hospital_TX.html\n",
        "\n",
        "&#128657; **Texarkana, TX Hospital Beds:**\n",
        "\n",
        " - CHRISTUS Saint Michael Hospital - 275 Total Beds / Special Care - 40\n",
        " - Wadley Regional Medical Center - 185 Total Beds / Special Care - 26\n",
        " \n",
        " **&#128719; Total 66 ICU Beds**\n",
        "\n",
        "\n",
        " ### CDC References:\n",
        " - Example Hospitalization Rates Pre-Vaccine: https://www.cdc.gov/mmwr/volumes/69/wr/mm6915e3.htm\n",
        " - Death Rates between Vaccinated and Unvaccinated: https://www.cdc.gov/mmwr/volumes/71/wr/mm7104e2.htm#T1_down \n",
        " - Mask Effectiveness: https://www.cdc.gov/mmwr/volumes/71/wr/mm7106e1.htm\n",
        " \n",
        "\n",
        "\n",
        "\n"
      ]
    },
    {
      "cell_type": "code",
      "execution_count": null,
      "id": "216e8937-3863-4f65-95e3-0d9bf72bbef2",
      "metadata": {
        "id": "216e8937-3863-4f65-95e3-0d9bf72bbef2"
      },
      "outputs": [],
      "source": []
    }
  ],
  "metadata": {
    "IMAGE_NAME": "taccsciapps/ds-nb-img:base-0.1.0",
    "UUID": "f5fba3ea-e6a5-11ec-b09d-b6ecb6431114",
    "kernelspec": {
      "display_name": "Python 3 (ipykernel)",
      "language": "python",
      "name": "python3"
    },
    "language_info": {
      "codemirror_mode": {
        "name": "ipython",
        "version": 3
      },
      "file_extension": ".py",
      "mimetype": "text/x-python",
      "name": "python",
      "nbconvert_exporter": "python",
      "pygments_lexer": "ipython3",
      "version": "3.9.10"
    },
    "colab": {
      "provenance": []
    }
  },
  "nbformat": 4,
  "nbformat_minor": 5
}